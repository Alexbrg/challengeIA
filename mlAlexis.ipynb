{
 "cells": [
  {
   "cell_type": "code",
   "execution_count": 3,
   "metadata": {},
   "outputs": [],
   "source": [
    "import numpy as np\n",
    "import pandas as pd\n",
    "from tensorflow import keras\n",
    "import tensorflow as ft \n",
    "import matplotlib.pyplot as plt\n",
    "import seaborn as sns\n",
    "\n",
    "# use of seaborn to improve quality of plots\n",
    "sns.set()"
   ]
  },
  {
   "cell_type": "code",
   "execution_count": 4,
   "metadata": {},
   "outputs": [],
   "source": [
    "pathToData = \"data/\"\n",
    "\n",
    "# load all the data\n",
    "testValues = pd.read_csv(pathToData + \"TestSetValues.csv\", sep=',')\n",
    "trainingValues = pd.read_csv(pathToData + \"TrainingSetValues.csv\", sep=',')\n",
    "trainingLabels = pd.read_csv(pathToData + \"TrainingSetLabels.csv\", sep=',')"
   ]
  },
  {
   "cell_type": "code",
   "execution_count": 5,
   "metadata": {},
   "outputs": [
    {
     "ename": "NameError",
     "evalue": "name 'trainingSetValues' is not defined",
     "output_type": "error",
     "traceback": [
      "\u001b[0;31m---------------------------------------------------------------------------\u001b[0m",
      "\u001b[0;31mNameError\u001b[0m                                 Traceback (most recent call last)",
      "\u001b[0;32m/var/folders/81/hrj9m0bn7s13csf153hy2rn80000gn/T/ipykernel_11892/750235782.py\u001b[0m in \u001b[0;36m<module>\u001b[0;34m\u001b[0m\n\u001b[1;32m      1\u001b[0m \u001b[0;31m# suppresion of columns in training set values\u001b[0m\u001b[0;34m\u001b[0m\u001b[0;34m\u001b[0m\u001b[0;34m\u001b[0m\u001b[0m\n\u001b[1;32m      2\u001b[0m \u001b[0;31m# Deleting columns \"wpt_name\" and \"num_private\" because we think they are useless\u001b[0m\u001b[0;34m\u001b[0m\u001b[0;34m\u001b[0m\u001b[0;34m\u001b[0m\u001b[0m\n\u001b[0;32m----> 3\u001b[0;31m \u001b[0;32mdel\u001b[0m \u001b[0mtrainingSetValues\u001b[0m\u001b[0;34m[\u001b[0m\u001b[0;34m\"wpt_name\"\u001b[0m\u001b[0;34m]\u001b[0m\u001b[0;34m\u001b[0m\u001b[0;34m\u001b[0m\u001b[0m\n\u001b[0m\u001b[1;32m      4\u001b[0m \u001b[0;32mdel\u001b[0m \u001b[0mtrainingSetValues\u001b[0m\u001b[0;34m[\u001b[0m\u001b[0;34m\"num_private\"\u001b[0m\u001b[0;34m]\u001b[0m\u001b[0;34m\u001b[0m\u001b[0;34m\u001b[0m\u001b[0m\n\u001b[1;32m      5\u001b[0m \u001b[0;32mdel\u001b[0m \u001b[0mtestSetValues\u001b[0m\u001b[0;34m[\u001b[0m\u001b[0;34m\"wpt_name\"\u001b[0m\u001b[0;34m]\u001b[0m\u001b[0;34m\u001b[0m\u001b[0;34m\u001b[0m\u001b[0m\n",
      "\u001b[0;31mNameError\u001b[0m: name 'trainingSetValues' is not defined"
     ]
    }
   ],
   "source": [
    "# suppresion of columns in training set values\n",
    "# Deleting columns \"wpt_name\" and \"num_private\" because we think they are useless\n",
    "del trainingSetValues[\"wpt_name\"]\n",
    "del trainingSetValues[\"num_private\"]\n",
    "del testSetValues[\"wpt_name\"]\n",
    "del testSetValues[\"num_private\"]"
   ]
  },
  {
   "cell_type": "code",
   "execution_count": null,
   "metadata": {},
   "outputs": [],
   "source": []
  }
 ],
 "metadata": {
  "interpreter": {
   "hash": "031c2ad14e4c2cb1161e068f13b9f222bdb4598f0c910c8c930e5c2fd6bb0a9e"
  },
  "kernelspec": {
   "display_name": "Python 3.8.5 64-bit ('base': conda)",
   "name": "python3"
  },
  "language_info": {
   "codemirror_mode": {
    "name": "ipython",
    "version": 3
   },
   "file_extension": ".py",
   "mimetype": "text/x-python",
   "name": "python",
   "nbconvert_exporter": "python",
   "pygments_lexer": "ipython3",
   "version": "3.8.12"
  },
  "orig_nbformat": 4
 },
 "nbformat": 4,
 "nbformat_minor": 2
}
