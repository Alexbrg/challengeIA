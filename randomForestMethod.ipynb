{
 "cells": [
  {
   "cell_type": "code",
   "execution_count": 33,
   "id": "generic-register",
   "metadata": {},
   "outputs": [],
   "source": [
    "import pandas as pd\n",
    "import numpy as np\n",
    "import matplotlib.pyplot as plt\n",
    "import seaborn as sns\n",
    "sns.set_theme()"
   ]
  },
  {
   "cell_type": "code",
   "execution_count": 36,
   "id": "looking-sunday",
   "metadata": {},
   "outputs": [],
   "source": [
    "# Data preparation\n",
    "%run manageDataAmaury.ipynb\n",
    "trainingSetValues = trainingSetValues\n",
    "trainingSetLabels = trainingSetLabels\n",
    "testSetValues = testSetValues"
   ]
  },
  {
   "cell_type": "code",
   "execution_count": null,
   "id": "e7829832",
   "metadata": {},
   "outputs": [],
   "source": [
    "# analysis of data quality of the data set\n",
    "# pandas_profiling.ProfileReport(trainingSetValues)"
   ]
  },
  {
   "cell_type": "markdown",
   "id": "de7236ce",
   "metadata": {},
   "source": [
    "Pas besoin de supprimer des variables"
   ]
  },
  {
   "cell_type": "code",
   "execution_count": null,
   "id": "9790f5a6",
   "metadata": {},
   "outputs": [],
   "source": [
    "# correlation maxtrix\n",
    "cor = trainingSetValues.corr()\n",
    "sns.heatmap(cor, square=True, cmap=\"coolwarm\", annot=True)"
   ]
  },
  {
   "cell_type": "code",
   "execution_count": null,
   "id": "309f7b87",
   "metadata": {},
   "outputs": [],
   "source": [
    "# transformation of id in index\n",
    "pd.DataFrame.set_index(trainingSetLabels, 'id', inplace=True)\n",
    "# trainingSetValues.drop(columns='population', inplace=True)\n",
    "# testSetValues.drop(columns='population', inplace=True)"
   ]
  },
  {
   "cell_type": "code",
   "execution_count": null,
   "id": "40f7140f",
   "metadata": {},
   "outputs": [],
   "source": [
    "# encoding of categorical features\n",
    "from sklearn.preprocessing import LabelEncoder\n",
    "\n",
    "def encodeCategoricalFeature(dfTrain, dfTest):\n",
    "    features = trainingSetValues.columns\n",
    "    numericalFeatures = trainingSetValues._get_numeric_data().columns\n",
    "    categoricalFeatures = list(set(features) - set(numericalFeatures))\n",
    "    enc = LabelEncoder()\n",
    "    for feature in categoricalFeatures:\n",
    "        enc.fit(pd.concat([dfTest[feature], dfTrain[feature]]))\n",
    "        dfTrain[feature] = enc.transform(dfTrain[feature])\n",
    "        dfTest[feature] = enc.transform(dfTest[feature])\n",
    "\n",
    "encodeCategoricalFeature(trainingSetValues, testSetValues)\n",
    "#pandas_profiling.ProfileReport(trainingSetValues)"
   ]
  },
  {
   "cell_type": "code",
   "execution_count": null,
   "id": "1af3838f",
   "metadata": {},
   "outputs": [],
   "source": [
    "from sklearn.model_selection import train_test_split\n",
    "x_train, x_test, y_train, y_test = train_test_split(trainingSetValues, trainingSetLabels, test_size=0.25, random_state=0)"
   ]
  },
  {
   "cell_type": "code",
   "execution_count": 19,
   "id": "d3ca9e0a",
   "metadata": {},
   "outputs": [
    {
     "data": {
      "text/plain": [
       "GridSearchCV(cv=3,\n",
       "             estimator=RandomForestClassifier(n_estimators={'max_features': ('sqrt',\n",
       "                                                                             'log2',\n",
       "                                                                             None),\n",
       "                                                            'n_estimators': [100,\n",
       "                                                                             500,\n",
       "                                                                             1000]},\n",
       "                                              random_state=66),\n",
       "             param_grid={'max_features': ('sqrt', 'log2', None),\n",
       "                         'n_estimators': [100, 500, 1000]},\n",
       "             scoring=make_scorer(accuracy_score))"
      ]
     },
     "execution_count": 19,
     "metadata": {},
     "output_type": "execute_result"
    }
   ],
   "source": [
    "from sklearn.ensemble import RandomForestClassifier\n",
    "from sklearn.model_selection import GridSearchCV\n",
    "from sklearn.metrics import accuracy_score\n",
    "from sklearn.metrics import make_scorer\n",
    "parameters = {'n_estimators':[100,500,1000], 'max_features':('sqrt', 'log2', None)}\n",
    "rf = RandomForestClassifier(parameters, random_state=66)\n",
    "y = np.ravel(y_train)\n",
    "x = x_train\n",
    "models = GridSearchCV(rf, param_grid=parameters, scoring=make_scorer(accuracy_score),cv=3)\n",
    "models.fit(x, y)"
   ]
  },
  {
   "cell_type": "code",
   "execution_count": 25,
   "id": "f3b8d63d",
   "metadata": {},
   "outputs": [
    {
     "name": "stdout",
     "output_type": "stream",
     "text": [
      "Parameters of our best model: {'max_features': 'sqrt', 'n_estimators': 1000}\n"
     ]
    }
   ],
   "source": [
    "argModel = np.argmin(models.cv_results_['rank_test_score'])\n",
    "paramModel = models.cv_results_['params'][argModel]\n",
    "print('Parameters of our best model: ' + str(paramModel))\n",
    "model = models.best_estimator_"
   ]
  },
  {
   "cell_type": "code",
   "execution_count": 26,
   "id": "697e9339",
   "metadata": {},
   "outputs": [
    {
     "name": "stdout",
     "output_type": "stream",
     "text": [
      "Accuracy score on x_test: 0.8049158249158249\n"
     ]
    }
   ],
   "source": [
    "predictions = model.predict(x_test)\n",
    "score = accuracy_score(predictions, y_test)\n",
    "print('Accuracy score on x_test: ' + str(score))"
   ]
  },
  {
   "cell_type": "code",
   "execution_count": 27,
   "id": "c911f578",
   "metadata": {},
   "outputs": [
    {
     "name": "stdout",
     "output_type": "stream",
     "text": [
      "         status_group\n",
      "id                   \n",
      "50785  non functional\n",
      "51630      functional\n",
      "17168      functional\n",
      "45559  non functional\n",
      "49871      functional\n",
      "...               ...\n",
      "39307  non functional\n",
      "18990      functional\n",
      "28749      functional\n",
      "33492      functional\n",
      "68707  non functional\n",
      "\n",
      "[14850 rows x 1 columns]\n"
     ]
    }
   ],
   "source": [
    "# make prediction on new values\n",
    "testPrediction = model.predict(testSetValues)\n",
    "predictionDf = pd.DataFrame()\n",
    "predictionDf['id'] = testSetValues.index\n",
    "predictionDf['status_group'] = testPrediction\n",
    "pd.DataFrame.set_index(predictionDf, 'id', inplace=True)\n",
    "print(predictionDf)\n",
    "predictionDf.to_csv('data/results.csv')"
   ]
  },
  {
   "cell_type": "code",
   "execution_count": null,
   "id": "ac5c813d",
   "metadata": {},
   "outputs": [],
   "source": []
  }
 ],
 "metadata": {
  "interpreter": {
   "hash": "961164d3c57bcec2a58ff384204bcf02724313a22661b698966dfff3b7d7a990"
  },
  "kernelspec": {
   "display_name": "Python 3.8.3 64-bit ('base': conda)",
   "name": "python3"
  },
  "language_info": {
   "codemirror_mode": {
    "name": "ipython",
    "version": 3
   },
   "file_extension": ".py",
   "mimetype": "text/x-python",
   "name": "python",
   "nbconvert_exporter": "python",
   "pygments_lexer": "ipython3",
   "version": "3.9.7"
  }
 },
 "nbformat": 4,
 "nbformat_minor": 5
}
