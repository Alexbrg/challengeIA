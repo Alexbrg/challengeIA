{
 "cells": [
  {
   "cell_type": "code",
   "execution_count": 1,
   "id": "generic-register",
   "metadata": {},
   "outputs": [],
   "source": [
    "import pandas as pd\n",
    "import numpy as np\n",
    "import matplotlib.pyplot as plt\n",
    "import seaborn as sns\n",
    "sns.set_theme()"
   ]
  },
  {
   "cell_type": "code",
   "execution_count": 2,
   "id": "looking-sunday",
   "metadata": {},
   "outputs": [],
   "source": [
    "# Files opening\n",
    "path = \"./data/\"\n",
    "trainingSetValues = pd.read_csv(path + \"TrainingSetValues.csv\", sep=\",\")\n",
    "trainingSetLabels = pd.read_csv(path + \"TrainingSetLabels.csv\", sep=\",\")\n",
    "testSetValues = pd.read_csv(path + \"TestSetValues.csv\", sep=\",\")\n"
   ]
  },
  {
   "cell_type": "code",
   "execution_count": 3,
   "id": "african-treat",
   "metadata": {},
   "outputs": [
    {
     "name": "stdout",
     "output_type": "stream",
     "text": [
      "Index(['id', 'amount_tsh', 'date_recorded', 'funder', 'gps_height',\n",
      "       'installer', 'longitude', 'latitude', 'wpt_name', 'num_private',\n",
      "       'basin', 'subvillage', 'region', 'region_code', 'district_code', 'lga',\n",
      "       'ward', 'population', 'public_meeting', 'recorded_by',\n",
      "       'scheme_management', 'scheme_name', 'permit', 'construction_year',\n",
      "       'extraction_type', 'extraction_type_group', 'extraction_type_class',\n",
      "       'management', 'management_group', 'payment', 'payment_type',\n",
      "       'water_quality', 'quality_group', 'quantity', 'quantity_group',\n",
      "       'source', 'source_type', 'source_class', 'waterpoint_type',\n",
      "       'waterpoint_type_group'],\n",
      "      dtype='object')\n"
     ]
    }
   ],
   "source": [
    "#testSetValues.head()\n",
    "print(testSetValues.columns)"
   ]
  },
  {
   "cell_type": "code",
   "execution_count": 4,
   "id": "b0bad203",
   "metadata": {},
   "outputs": [
    {
     "data": {
      "text/html": [
       "<div>\n",
       "<style scoped>\n",
       "    .dataframe tbody tr th:only-of-type {\n",
       "        vertical-align: middle;\n",
       "    }\n",
       "\n",
       "    .dataframe tbody tr th {\n",
       "        vertical-align: top;\n",
       "    }\n",
       "\n",
       "    .dataframe thead th {\n",
       "        text-align: right;\n",
       "    }\n",
       "</style>\n",
       "<table border=\"1\" class=\"dataframe\">\n",
       "  <thead>\n",
       "    <tr style=\"text-align: right;\">\n",
       "      <th></th>\n",
       "      <th>id</th>\n",
       "      <th>status_group</th>\n",
       "    </tr>\n",
       "  </thead>\n",
       "  <tbody>\n",
       "    <tr>\n",
       "      <th>0</th>\n",
       "      <td>69572</td>\n",
       "      <td>functional</td>\n",
       "    </tr>\n",
       "    <tr>\n",
       "      <th>1</th>\n",
       "      <td>8776</td>\n",
       "      <td>functional</td>\n",
       "    </tr>\n",
       "    <tr>\n",
       "      <th>2</th>\n",
       "      <td>34310</td>\n",
       "      <td>functional</td>\n",
       "    </tr>\n",
       "    <tr>\n",
       "      <th>3</th>\n",
       "      <td>67743</td>\n",
       "      <td>non functional</td>\n",
       "    </tr>\n",
       "    <tr>\n",
       "      <th>4</th>\n",
       "      <td>19728</td>\n",
       "      <td>functional</td>\n",
       "    </tr>\n",
       "  </tbody>\n",
       "</table>\n",
       "</div>"
      ],
      "text/plain": [
       "      id    status_group\n",
       "0  69572      functional\n",
       "1   8776      functional\n",
       "2  34310      functional\n",
       "3  67743  non functional\n",
       "4  19728      functional"
      ]
     },
     "execution_count": 4,
     "metadata": {},
     "output_type": "execute_result"
    }
   ],
   "source": [
    "trainingSetLabels.head()"
   ]
  },
  {
   "cell_type": "code",
   "execution_count": 5,
   "id": "8e831799",
   "metadata": {},
   "outputs": [],
   "source": [
    "# Converting columns in the good dtype\n",
    "def changeDtypes(data):\n",
    "    for column in data:\n",
    "        if \"date\" in column:\n",
    "                data[column] = pd.to_datetime(data[column], format=\"%Y/%m/%d\")\n",
    "        else:\n",
    "            if data[column].dtype == \"object\":\n",
    "                data[column] = pd.Categorical(data[column])\n",
    "\n",
    "changeDtypes(trainingSetValues)\n",
    "changeDtypes(testSetValues)\n"
   ]
  },
  {
   "cell_type": "code",
   "execution_count": 6,
   "id": "926a3d88",
   "metadata": {},
   "outputs": [
    {
     "name": "stdout",
     "output_type": "stream",
     "text": [
      "\n",
      "NaN data in trainingSetValues\n",
      "funder : 6.12 %\n",
      "installer : 6.153 %\n",
      "subvillage : 0.625 %\n",
      "public_meeting : 5.613 %\n",
      "scheme_management : 6.527 %\n",
      "scheme_name : 47.418 %\n",
      "permit : 5.145 %\n",
      "\n",
      "NaN data in testSetValues\n",
      "funder : 5.852 %\n",
      "installer : 5.906 %\n",
      "subvillage : 0.667 %\n",
      "public_meeting : 5.529 %\n",
      "scheme_management : 6.525 %\n",
      "scheme_name : 47.758 %\n",
      "permit : 4.963 %\n"
     ]
    }
   ],
   "source": [
    "# List number of NaN values in data\n",
    "def get_nan_count(column):\n",
    "    '''\n",
    "    column - the column for which we want the NaN value count.\n",
    "    This function returns the number of NaN values in a specific column.\n",
    "    '''\n",
    "    nan_count = column.isnull().sum()\n",
    "    return nan_count\n",
    "\n",
    "def list_nb_nan_columns(data):\n",
    "    for column in data:\n",
    "        nb = get_nan_count(data[column])\n",
    "        if nb != 0:\n",
    "            totalCol = data[column].count() + nb\n",
    "            print(column,\":\", round(nb/totalCol *100 ,3), \"%\")\n",
    "        \n",
    "        \n",
    "print(\"\\nNaN data in trainingSetValues\")\n",
    "list_nb_nan_columns(trainingSetValues)\n",
    "print(\"\\nNaN data in testSetValues\")\n",
    "list_nb_nan_columns(testSetValues)"
   ]
  },
  {
   "cell_type": "code",
   "execution_count": 7,
   "id": "507d505d",
   "metadata": {},
   "outputs": [
    {
     "name": "stdout",
     "output_type": "stream",
     "text": [
      "functional                 32259\n",
      "non functional             22824\n",
      "functional needs repair     4317\n",
      "Name: status_group, dtype: int64\n"
     ]
    },
    {
     "data": {
      "image/png": "[encoded data removed]",
      "text/plain": [
       "<Figure size 432x288 with 1 Axes>"
      ]
     },
     "metadata": {},
     "output_type": "display_data"
    }
   ],
   "source": [
    "# Functional state\n",
    "print(trainingSetLabels['status_group'].value_counts())\n",
    "trainingSetLabels['status_group'].hist()\n",
    "plt.show()"
   ]
  },
  {
   "cell_type": "code",
   "execution_count": 8,
   "id": "2c474e0f",
   "metadata": {},
   "outputs": [
    {
     "name": "stdout",
     "output_type": "stream",
     "text": [
      "0.0         41639\n",
      "500.0        3102\n",
      "50.0         2472\n",
      "1000.0       1488\n",
      "20.0         1463\n",
      "            ...  \n",
      "250000.0        1\n",
      "220.0           1\n",
      "350000.0        1\n",
      "138000.0        1\n",
      "38000.0         1\n",
      "Name: amount_tsh, Length: 98, dtype: int64\n",
      "0.0         10410\n",
      "500.0         772\n",
      "50.0          631\n",
      "1000.0        370\n",
      "20.0          349\n",
      "            ...  \n",
      "100000.0        1\n",
      "60000.0         1\n",
      "2550.0          1\n",
      "3500.0          1\n",
      "350.0           1\n",
      "Name: amount_tsh, Length: 68, dtype: int64\n"
     ]
    }
   ],
   "source": [
    "# amount_tsh\n",
    "print(trainingSetValues['amount_tsh'].value_counts())\n",
    "print(testSetValues['amount_tsh'].value_counts())\n",
    "# Delete amount_tsh from both data sets because of too many '0' values\n",
    "trainingSetValues.drop(['amount_tsh'], axis = 1, inplace = True)\n",
    "testSetValues.drop(['amount_tsh'], axis = 1, inplace = True)"
   ]
  },
  {
   "cell_type": "code",
   "execution_count": 9,
   "id": "15f69e94",
   "metadata": {},
   "outputs": [
    {
     "name": "stdout",
     "output_type": "stream",
     "text": [
      "2011    28674\n",
      "2013    24271\n",
      "2012     6424\n",
      "2004       30\n",
      "2002        1\n",
      "Name: date_recorded, dtype: int64\n",
      "2011    7234\n",
      "2013    5939\n",
      "2012    1665\n",
      "2004      11\n",
      "2001       1\n",
      "Name: date_recorded, dtype: int64\n"
     ]
    }
   ],
   "source": [
    "# date_recorded\n",
    "print(trainingSetValues['date_recorded'].dt.year.value_counts())\n",
    "print(testSetValues['date_recorded'].dt.year.value_counts())\n",
    "# Deleting\n",
    "del trainingSetValues['date_recorded']\n",
    "del testSetValues['date_recorded']"
   ]
  },
  {
   "cell_type": "code",
   "execution_count": 10,
   "id": "b5c934db",
   "metadata": {},
   "outputs": [
    {
     "name": "stdout",
     "output_type": "stream",
     "text": [
      "Government Of Tanzania    12719\n",
      "Danida                     3114\n",
      "Hesawa                     2202\n",
      "Rwssp                      1374\n",
      "World Bank                 1349\n",
      "                          ...  \n",
      "Malola                        1\n",
      "Maliasili                     1\n",
      "Males                         1\n",
      "Makusa                        1\n",
      "Zingibali Secondary           1\n",
      "Name: funder, Length: 1897, dtype: int64\n",
      "Government Of Tanzania    3084\n",
      "Danida                     793\n",
      "Hesawa                     580\n",
      "World Bank                 352\n",
      "Kkkt                       336\n",
      "                          ... \n",
      "Matyenye                     1\n",
      "Maxavella                    1\n",
      "Mboma                        1\n",
      "Mbozi District Council       1\n",
      "Zara Camp                    1\n",
      "Name: funder, Length: 980, dtype: int64\n"
     ]
    }
   ],
   "source": [
    "# funder\n",
    "# Replace missing values with the most frequent funder\n",
    "trainingSetValues['funder'] = trainingSetValues['funder'].fillna(trainingSetValues['funder'].value_counts().index[0])\n",
    "testSetValues['funder'] = testSetValues['funder'].fillna(testSetValues['funder'].value_counts().index[0])\n",
    "print(trainingSetValues['funder'].value_counts())\n",
    "print(testSetValues['funder'].value_counts())"
   ]
  },
  {
   "cell_type": "code",
   "execution_count": 11,
   "id": "a40f2176",
   "metadata": {},
   "outputs": [
    {
     "name": "stdout",
     "output_type": "stream",
     "text": [
      "2770\n",
      "-90\n",
      "668.297239057239\n",
      " 0       20438\n",
      "-15         60\n",
      "-16         55\n",
      "-13         55\n",
      " 1290       52\n",
      "         ...  \n",
      " 2332        1\n",
      " 2202        1\n",
      " 2236        1\n",
      "-57          1\n",
      " 2038        1\n",
      "Name: gps_height, Length: 2428, dtype: int64\n"
     ]
    }
   ],
   "source": [
    "# gps_height\n",
    "print(trainingSetValues['gps_height'].max())\n",
    "print(trainingSetValues['gps_height'].min())\n",
    "print(trainingSetValues['gps_height'].mean())\n",
    "print(trainingSetValues['gps_height'].value_counts())\n",
    "\n",
    "# Replacing all 0 values by the mean\n",
    "#trainingSetValues['gps_height'].replace(0, trainingSetValues['gps_height'].mean(), inplace=True)\n",
    "#testSetValues['gps_height'].replace(0, testSetValues['gps_height'].mean(), inplace=True)\n",
    "\n",
    "# Do not work yet : Replacing 0 values in gps_height with average of others which are in the same district\n",
    "#for i in range(trainingSetValues.shape[0]):\n",
    "#    if trainingSetValues['gps_height'].iloc[i] == 0:\n",
    "#        district_i = trainingSetValues['district_code'].iloc[i]\n",
    "#        sum = 0\n",
    "#        nb = 0\n",
    "#        for j in range(trainingSetValues.shape[0]):\n",
    " #           if i != j and district_i == trainingSetValues['district_code'].iloc[j]:\n",
    " #               sum += trainingSetValues['gps_height'].iloc[j]\n",
    " #               nb += 1\n",
    " #       trainingSetValues['gps_height'].iloc[i] = sum / nb"
   ]
  },
  {
   "cell_type": "code",
   "execution_count": 12,
   "id": "2e80baee",
   "metadata": {},
   "outputs": [
    {
     "name": "stdout",
     "output_type": "stream",
     "text": [
      "DWE                 21057\n",
      "Government           1825\n",
      "RWE                  1206\n",
      "Commu                1060\n",
      "DANIDA               1050\n",
      "                    ...  \n",
      "MH Kapuya               1\n",
      "METHODIST CHURCH        1\n",
      "MECO                    1\n",
      "MBUZI MAWE              1\n",
      "world vision            1\n",
      "Name: installer, Length: 2145, dtype: int64\n",
      "DWE                              5226\n",
      "Government                        457\n",
      "RWE                               292\n",
      "Commu                             287\n",
      "DANIDA                            255\n",
      "                                 ... \n",
      "Africa Muslum Agence Tanzania       1\n",
      "MWS                                 1\n",
      "Machibya                            1\n",
      "Magati                              1\n",
      "world                               1\n",
      "Name: installer, Length: 1091, dtype: int64\n"
     ]
    }
   ],
   "source": [
    "# installer\n",
    "trainingSetValues['installer'].value_counts()\n",
    "# Replace missing values with the most frequent installer\n",
    "trainingSetValues['installer'] = trainingSetValues['installer'].fillna(trainingSetValues['installer'].value_counts().index[0])\n",
    "testSetValues['installer'] = testSetValues['installer'].fillna(testSetValues['installer'].value_counts().index[0])\n",
    "print(trainingSetValues['installer'].value_counts())\n",
    "print(testSetValues['installer'].value_counts())"
   ]
  },
  {
   "cell_type": "code",
   "execution_count": 13,
   "id": "14884819",
   "metadata": {},
   "outputs": [
    {
     "name": "stdout",
     "output_type": "stream",
     "text": [
      "-2.000000e-08    1812\n",
      "-2.494546e+00       2\n",
      "-6.983183e+00       2\n",
      "-7.056923e+00       2\n",
      "-7.056372e+00       2\n",
      "                 ... \n",
      "-6.162973e+00       1\n",
      "-1.595138e+00       1\n",
      "-2.007878e+00       1\n",
      "-6.787691e+00       1\n",
      "-1.077290e+01       1\n",
      "Name: latitude, Length: 57517, dtype: int64\n",
      "0.000000     1812\n",
      "32.977191       2\n",
      "32.919861       2\n",
      "37.542785       2\n",
      "39.105307       2\n",
      "             ... \n",
      "37.141893       1\n",
      "35.839879       1\n",
      "33.638301       1\n",
      "35.347266       1\n",
      "35.164770       1\n",
      "Name: longitude, Length: 57516, dtype: int64\n"
     ]
    }
   ],
   "source": [
    "# longitude and latitude\n",
    "print(trainingSetValues['latitude'].value_counts())\n",
    "print(trainingSetValues['longitude'].value_counts())"
   ]
  },
  {
   "cell_type": "code",
   "execution_count": 14,
   "id": "04108e06",
   "metadata": {},
   "outputs": [],
   "source": [
    "# wpt_name deletion\n",
    "del trainingSetValues[\"wpt_name\"]\n",
    "del testSetValues[\"wpt_name\"]"
   ]
  },
  {
   "cell_type": "code",
   "execution_count": 15,
   "id": "7f2fe5ea",
   "metadata": {},
   "outputs": [],
   "source": [
    "# num_private deletion \n",
    "del trainingSetValues['num_private']\n",
    "del testSetValues['num_private']"
   ]
  },
  {
   "cell_type": "code",
   "execution_count": 16,
   "id": "universal-vanilla",
   "metadata": {},
   "outputs": [],
   "source": [
    "# Deletion of basin, subvillage, region, lga and ward\n",
    "del trainingSetValues['basin']\n",
    "del testSetValues['basin']\n",
    "del trainingSetValues['subvillage']\n",
    "del testSetValues['subvillage']\n",
    "del trainingSetValues['region']\n",
    "del testSetValues['region']\n",
    "del trainingSetValues['lga']\n",
    "del testSetValues['lga']\n",
    "del trainingSetValues['ward']\n",
    "del testSetValues['ward']"
   ]
  },
  {
   "cell_type": "code",
   "execution_count": 17,
   "id": "59ae81be",
   "metadata": {},
   "outputs": [
    {
     "name": "stdout",
     "output_type": "stream",
     "text": [
      "11    5300\n",
      "17    5011\n",
      "12    4639\n",
      "3     4379\n",
      "5     4040\n",
      "18    3324\n",
      "19    3047\n",
      "2     3024\n",
      "16    2816\n",
      "10    2640\n",
      "4     2513\n",
      "1     2201\n",
      "13    2093\n",
      "14    1979\n",
      "20    1969\n",
      "15    1808\n",
      "6     1609\n",
      "21    1583\n",
      "80    1238\n",
      "60    1025\n",
      "90     917\n",
      "7      805\n",
      "99     423\n",
      "9      390\n",
      "24     326\n",
      "8      300\n",
      "40       1\n",
      "Name: region_code, dtype: int64\n",
      "1     12203\n",
      "2     11173\n",
      "3      9998\n",
      "4      8999\n",
      "5      4356\n",
      "6      4074\n",
      "7      3343\n",
      "8      1043\n",
      "30      995\n",
      "33      874\n",
      "53      745\n",
      "43      505\n",
      "13      391\n",
      "23      293\n",
      "63      195\n",
      "62      109\n",
      "60       63\n",
      "0        23\n",
      "80       12\n",
      "67        6\n",
      "Name: district_code, dtype: int64\n"
     ]
    }
   ],
   "source": [
    "# For geographic location we just keep region_code and district_code\n",
    "# region_code\n",
    "print(trainingSetValues['region_code'].value_counts())   \n",
    "# district_code\n",
    "print(trainingSetValues['district_code'].value_counts())  \n"
   ]
  },
  {
   "cell_type": "code",
   "execution_count": 18,
   "id": "3ecf8af5",
   "metadata": {},
   "outputs": [
    {
     "name": "stdout",
     "output_type": "stream",
     "text": [
      "0       21381\n",
      "1        7025\n",
      "200      1940\n",
      "150      1892\n",
      "250      1681\n",
      "        ...  \n",
      "1160        1\n",
      "3241        1\n",
      "1960        1\n",
      "2248        1\n",
      "1439        1\n",
      "Name: population, Length: 1049, dtype: int64\n",
      "0       5453\n",
      "1       1757\n",
      "150      436\n",
      "200      430\n",
      "250      406\n",
      "        ... \n",
      "2530       1\n",
      "467        1\n",
      "451        1\n",
      "4521       1\n",
      "1735       1\n",
      "Name: population, Length: 637, dtype: int64\n"
     ]
    },
    {
     "data": {
      "image/png": "[encoded data removed]",
      "text/plain": [
       "<Figure size 432x288 with 1 Axes>"
      ]
     },
     "metadata": {},
     "output_type": "display_data"
    },
    {
     "name": "stdout",
     "output_type": "stream",
     "text": [
      "count     9397.000000\n",
      "mean       290.954134\n",
      "std        563.265359\n",
      "min          1.000000\n",
      "25%         40.000000\n",
      "50%        150.000000\n",
      "75%        350.000000\n",
      "max      11469.000000\n",
      "Name: population, dtype: float64\n"
     ]
    },
    {
     "data": {
      "image/png": "[encoded data removed]",
      "text/plain": [
       "<Figure size 432x288 with 1 Axes>"
      ]
     },
     "metadata": {},
     "output_type": "display_data"
    }
   ],
   "source": [
    "# population\n",
    "\n",
    "print(trainingSetValues['population'].value_counts())\n",
    "print(testSetValues['population'].value_counts())\n",
    "# boxplot excluding 0\n",
    "trainingSetValues[trainingSetValues['population'] != 0].boxplot(column=['population'])\n",
    "plt.show()\n",
    "print(testSetValues['population'][testSetValues['population'] != 0].describe())\n",
    "testSetValues[testSetValues['population'] != 0].boxplot(column=['population'])\n",
    "plt.show()\n",
    "\n",
    "# Replacing 0 by the median\n",
    "median = trainingSetValues['population'][trainingSetValues['population'] != 0].median\n",
    "trainingSetValues['population'] = trainingSetValues['population'].replace(0, median)\n",
    "median = testSetValues['population'][testSetValues['population'] != 0].median\n",
    "testSetValues['population'] = testSetValues['population'].replace(0, median)\n"
   ]
  },
  {
   "cell_type": "code",
   "execution_count": 20,
   "id": "32a4c77f",
   "metadata": {},
   "outputs": [
    {
     "name": "stdout",
     "output_type": "stream",
     "text": [
      "True     51011\n",
      "False     5055\n",
      "Name: public_meeting, dtype: int64\n",
      "True     12738\n",
      "False     1291\n",
      "Name: public_meeting, dtype: int64\n"
     ]
    }
   ],
   "source": [
    "# public meeting\n",
    "print(trainingSetValues['public_meeting'].value_counts())\n",
    "print(testSetValues['public_meeting'].value_counts())\n",
    "# replacing missing values by True\n",
    "trainingSetValues['public_meeting'] = trainingSetValues['public_meeting'].fillna(True)\n",
    "testSetValues['public_meeting'] = testSetValues['public_meeting'].fillna(True)"
   ]
  },
  {
   "cell_type": "code",
   "execution_count": 21,
   "id": "ruled-cleanup",
   "metadata": {},
   "outputs": [],
   "source": [
    "# recorded_by deletion \n",
    "del trainingSetValues['recorded_by']\n",
    "del testSetValues['recorded_by']"
   ]
  },
  {
   "cell_type": "code",
   "execution_count": null,
   "id": "08ed0e79",
   "metadata": {},
   "outputs": [],
   "source": []
  },
  {
   "cell_type": "code",
   "execution_count": null,
   "id": "54ed7bca",
   "metadata": {},
   "outputs": [],
   "source": []
  },
  {
   "cell_type": "code",
   "execution_count": null,
   "id": "6a5170c9",
   "metadata": {},
   "outputs": [],
   "source": []
  },
  {
   "cell_type": "code",
   "execution_count": null,
   "id": "dec5e4f0",
   "metadata": {},
   "outputs": [],
   "source": []
  }
 ],
 "metadata": {
  "interpreter": {
   "hash": "961164d3c57bcec2a58ff384204bcf02724313a22661b698966dfff3b7d7a990"
  },
  "kernelspec": {
   "display_name": "Python 3.8.3 64-bit ('base': conda)",
   "name": "python3"
  },
  "language_info": {
   "codemirror_mode": {
    "name": "ipython",
    "version": 3
   },
   "file_extension": ".py",
   "mimetype": "text/x-python",
   "name": "python",
   "nbconvert_exporter": "python",
   "pygments_lexer": "ipython3",
   "version": "3.8.3"
  }
 },
 "nbformat": 4,
 "nbformat_minor": 5
}
