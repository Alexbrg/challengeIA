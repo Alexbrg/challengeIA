{
 "cells": [
  {
   "cell_type": "code",
   "execution_count": 36,
   "id": "generic-register",
   "metadata": {},
   "outputs": [],
   "source": [
    "import pandas as pd\n",
    "import numpy as np\n",
    "import matplotlib.pyplot as plt\n",
    "import seaborn as sns\n",
    "sns.set_theme()"
   ]
  },
  {
   "cell_type": "code",
   "execution_count": 37,
   "id": "looking-sunday",
   "metadata": {},
   "outputs": [],
   "source": [
    "# Files opening\n",
    "path = \"./data/\"\n",
    "trainingSetValues = pd.read_csv(path + \"TrainingSetValues.csv\", sep=\",\")\n",
    "trainingSetLabels = pd.read_csv(path + \"TrainingSetLabels.csv\", sep=\",\")\n",
    "testSetValues = pd.read_csv(path + \"TestSetValues.csv\", sep=\",\")\n",
    "\n",
    "# Constants\n",
    "PRINT = FALSE\n"
   ]
  },
  {
   "cell_type": "code",
   "execution_count": 38,
   "id": "african-treat",
   "metadata": {},
   "outputs": [
    {
     "name": "stdout",
     "output_type": "stream",
     "text": [
      "Index(['id', 'amount_tsh', 'date_recorded', 'funder', 'gps_height',\n",
      "       'installer', 'longitude', 'latitude', 'wpt_name', 'num_private',\n",
      "       'basin', 'subvillage', 'region', 'region_code', 'district_code', 'lga',\n",
      "       'ward', 'population', 'public_meeting', 'recorded_by',\n",
      "       'scheme_management', 'scheme_name', 'permit', 'construction_year',\n",
      "       'extraction_type', 'extraction_type_group', 'extraction_type_class',\n",
      "       'management', 'management_group', 'payment', 'payment_type',\n",
      "       'water_quality', 'quality_group', 'quantity', 'quantity_group',\n",
      "       'source', 'source_type', 'source_class', 'waterpoint_type',\n",
      "       'waterpoint_type_group'],\n",
      "      dtype='object')\n",
      "40\n"
     ]
    }
   ],
   "source": [
    "#testSetValues.head()\n",
    "print(testSetValues.columns)\n",
    "print(len(testSetValues.columns))"
   ]
  },
  {
   "cell_type": "code",
   "execution_count": 39,
   "id": "b0bad203",
   "metadata": {},
   "outputs": [
    {
     "data": {
      "text/html": [
       "<div>\n",
       "<style scoped>\n",
       "    .dataframe tbody tr th:only-of-type {\n",
       "        vertical-align: middle;\n",
       "    }\n",
       "\n",
       "    .dataframe tbody tr th {\n",
       "        vertical-align: top;\n",
       "    }\n",
       "\n",
       "    .dataframe thead th {\n",
       "        text-align: right;\n",
       "    }\n",
       "</style>\n",
       "<table border=\"1\" class=\"dataframe\">\n",
       "  <thead>\n",
       "    <tr style=\"text-align: right;\">\n",
       "      <th></th>\n",
       "      <th>id</th>\n",
       "      <th>status_group</th>\n",
       "    </tr>\n",
       "  </thead>\n",
       "  <tbody>\n",
       "    <tr>\n",
       "      <th>0</th>\n",
       "      <td>69572</td>\n",
       "      <td>functional</td>\n",
       "    </tr>\n",
       "    <tr>\n",
       "      <th>1</th>\n",
       "      <td>8776</td>\n",
       "      <td>functional</td>\n",
       "    </tr>\n",
       "    <tr>\n",
       "      <th>2</th>\n",
       "      <td>34310</td>\n",
       "      <td>functional</td>\n",
       "    </tr>\n",
       "    <tr>\n",
       "      <th>3</th>\n",
       "      <td>67743</td>\n",
       "      <td>non functional</td>\n",
       "    </tr>\n",
       "    <tr>\n",
       "      <th>4</th>\n",
       "      <td>19728</td>\n",
       "      <td>functional</td>\n",
       "    </tr>\n",
       "  </tbody>\n",
       "</table>\n",
       "</div>"
      ],
      "text/plain": [
       "      id    status_group\n",
       "0  69572      functional\n",
       "1   8776      functional\n",
       "2  34310      functional\n",
       "3  67743  non functional\n",
       "4  19728      functional"
      ]
     },
     "execution_count": 39,
     "metadata": {},
     "output_type": "execute_result"
    }
   ],
   "source": [
    "trainingSetLabels.head()"
   ]
  },
  {
   "cell_type": "code",
   "execution_count": 40,
   "id": "8e831799",
   "metadata": {},
   "outputs": [],
   "source": [
    "# Converting columns in the good dtype\n",
    "def changeDtypes(data):\n",
    "    for column in data:\n",
    "        if \"date\" in column:\n",
    "                data[column] = pd.to_datetime(data[column], format=\"%Y/%m/%d\")\n",
    "        else:\n",
    "            if data[column].dtype == \"object\":\n",
    "                data[column] = pd.Categorical(data[column])\n",
    "\n",
    "changeDtypes(trainingSetValues)\n",
    "changeDtypes(testSetValues)\n"
   ]
  },
  {
   "cell_type": "code",
   "execution_count": 41,
   "id": "926a3d88",
   "metadata": {},
   "outputs": [
    {
     "name": "stdout",
     "output_type": "stream",
     "text": [
      "\n",
      "NaN data in trainingSetValues\n",
      "funder : 6.12 %\n",
      "installer : 6.153 %\n",
      "subvillage : 0.625 %\n",
      "public_meeting : 5.613 %\n",
      "scheme_management : 6.527 %\n",
      "scheme_name : 47.418 %\n",
      "permit : 5.145 %\n",
      "\n",
      "NaN data in testSetValues\n",
      "funder : 5.852 %\n",
      "installer : 5.906 %\n",
      "subvillage : 0.667 %\n",
      "public_meeting : 5.529 %\n",
      "scheme_management : 6.525 %\n",
      "scheme_name : 47.758 %\n",
      "permit : 4.963 %\n"
     ]
    }
   ],
   "source": [
    "# List number of NaN values in data\n",
    "def get_nan_count(column):\n",
    "    '''\n",
    "    column - the column for which we want the NaN value count.\n",
    "    This function returns the number of NaN values in a specific column.\n",
    "    '''\n",
    "    nan_count = column.isnull().sum()\n",
    "    return nan_count\n",
    "\n",
    "def list_nb_nan_columns(data):\n",
    "    for column in data:\n",
    "        nb = get_nan_count(data[column])\n",
    "        if nb != 0:\n",
    "            totalCol = data[column].count() + nb\n",
    "            print(column,\":\", round(nb/totalCol *100 ,3), \"%\")\n",
    "        \n",
    "        \n",
    "print(\"\\nNaN data in trainingSetValues\")\n",
    "list_nb_nan_columns(trainingSetValues)\n",
    "print(\"\\nNaN data in testSetValues\")\n",
    "list_nb_nan_columns(testSetValues)"
   ]
  },
  {
   "cell_type": "code",
   "execution_count": 42,
   "id": "507d505d",
   "metadata": {},
   "outputs": [
    {
     "name": "stdout",
     "output_type": "stream",
     "text": [
      "functional                 32259\n",
      "non functional             22824\n",
      "functional needs repair     4317\n",
      "Name: status_group, dtype: int64\n"
     ]
    },
    {
     "data": {
      "image/png": "[encoded data removed]",
      "text/plain": [
       "<Figure size 432x288 with 1 Axes>"
      ]
     },
     "metadata": {},
     "output_type": "display_data"
    }
   ],
   "source": [
    "# Functional state\n",
    "print(trainingSetLabels['status_group'].value_counts())\n",
    "trainingSetLabels['status_group'].hist()\n",
    "plt.show()"
   ]
  },
  {
   "cell_type": "code",
   "execution_count": 43,
   "id": "2c474e0f",
   "metadata": {},
   "outputs": [
    {
     "name": "stdout",
     "output_type": "stream",
     "text": [
      "0.0         41639\n",
      "500.0        3102\n",
      "50.0         2472\n",
      "1000.0       1488\n",
      "20.0         1463\n",
      "            ...  \n",
      "6300.0          1\n",
      "120000.0        1\n",
      "138000.0        1\n",
      "350000.0        1\n",
      "59.0            1\n",
      "Name: amount_tsh, Length: 98, dtype: int64\n",
      "0.0         10410\n",
      "500.0         772\n",
      "50.0          631\n",
      "1000.0        370\n",
      "20.0          349\n",
      "            ...  \n",
      "14000.0         1\n",
      "0.2             1\n",
      "70000.0         1\n",
      "100000.0        1\n",
      "2800.0          1\n",
      "Name: amount_tsh, Length: 68, dtype: int64\n"
     ]
    }
   ],
   "source": [
    "# amount_tsh\n",
    "print(trainingSetValues['amount_tsh'].value_counts())\n",
    "print(testSetValues['amount_tsh'].value_counts())\n",
    "# Delete amount_tsh from both data sets because of too many '0' values\n",
    "trainingSetValues.drop(['amount_tsh'], axis = 1, inplace = True)\n",
    "testSetValues.drop(['amount_tsh'], axis = 1, inplace = True)"
   ]
  },
  {
   "cell_type": "code",
   "execution_count": 44,
   "id": "15f69e94",
   "metadata": {},
   "outputs": [
    {
     "name": "stdout",
     "output_type": "stream",
     "text": [
      "2011    28674\n",
      "2013    24271\n",
      "2012     6424\n",
      "2004       30\n",
      "2002        1\n",
      "Name: date_recorded, dtype: int64\n",
      "2011    7234\n",
      "2013    5939\n",
      "2012    1665\n",
      "2004      11\n",
      "2001       1\n",
      "Name: date_recorded, dtype: int64\n"
     ]
    }
   ],
   "source": [
    "# date_recorded\n",
    "print(trainingSetValues['date_recorded'].dt.year.value_counts())\n",
    "print(testSetValues['date_recorded'].dt.year.value_counts())\n",
    "# Deleting\n",
    "del trainingSetValues['date_recorded']\n",
    "del testSetValues['date_recorded']"
   ]
  },
  {
   "cell_type": "code",
   "execution_count": 45,
   "id": "b5c934db",
   "metadata": {},
   "outputs": [
    {
     "name": "stdout",
     "output_type": "stream",
     "text": [
      "Government Of Tanzania    12719\n",
      "Danida                     3114\n",
      "Hesawa                     2202\n",
      "Rwssp                      1374\n",
      "World Bank                 1349\n",
      "                          ...  \n",
      "Malola                        1\n",
      "Maliasili                     1\n",
      "Males                         1\n",
      "Makusa                        1\n",
      "Zingibali Secondary           1\n",
      "Name: funder, Length: 1897, dtype: int64\n",
      "Government Of Tanzania    3084\n",
      "Danida                     793\n",
      "Hesawa                     580\n",
      "World Bank                 352\n",
      "Kkkt                       336\n",
      "                          ... \n",
      "Matyenye                     1\n",
      "Maxavella                    1\n",
      "Mboma                        1\n",
      "Mbozi District Council       1\n",
      "Zara Camp                    1\n",
      "Name: funder, Length: 980, dtype: int64\n"
     ]
    }
   ],
   "source": [
    "# funder\n",
    "# Replace missing values with the most frequent funder\n",
    "trainingSetValues['funder'] = trainingSetValues['funder'].fillna(trainingSetValues['funder'].value_counts().index[0])\n",
    "testSetValues['funder'] = testSetValues['funder'].fillna(testSetValues['funder'].value_counts().index[0])\n",
    "print(trainingSetValues['funder'].value_counts())\n",
    "print(testSetValues['funder'].value_counts())"
   ]
  },
  {
   "cell_type": "code",
   "execution_count": 46,
   "id": "a40f2176",
   "metadata": {},
   "outputs": [
    {
     "name": "stdout",
     "output_type": "stream",
     "text": [
      "2770\n",
      "-90\n",
      "668.297239057239\n",
      " 0       20438\n",
      "-15         60\n",
      "-16         55\n",
      "-13         55\n",
      " 1290       52\n",
      "         ...  \n",
      " 2378        1\n",
      "-54          1\n",
      " 2057        1\n",
      " 2332        1\n",
      " 2366        1\n",
      "Name: gps_height, Length: 2428, dtype: int64\n"
     ]
    }
   ],
   "source": [
    "# gps_height\n",
    "print(trainingSetValues['gps_height'].max())\n",
    "print(trainingSetValues['gps_height'].min())\n",
    "print(trainingSetValues['gps_height'].mean())\n",
    "print(trainingSetValues['gps_height'].value_counts())\n",
    "\n",
    "# Replacing all 0 values by the mean\n",
    "#trainingSetValues['gps_height'].replace(0, trainingSetValues['gps_height'].mean(), inplace=True)\n",
    "#testSetValues['gps_height'].replace(0, testSetValues['gps_height'].mean(), inplace=True)\n",
    "\n",
    "# Do not work yet : Replacing 0 values in gps_height with average of others which are in the same district\n",
    "#for i in range(trainingSetValues.shape[0]):\n",
    "#    if trainingSetValues['gps_height'].iloc[i] == 0:\n",
    "#        district_i = trainingSetValues['district_code'].iloc[i]\n",
    "#        sum = 0\n",
    "#        nb = 0\n",
    "#        for j in range(trainingSetValues.shape[0]):\n",
    " #           if i != j and district_i == trainingSetValues['district_code'].iloc[j]:\n",
    " #               sum += trainingSetValues['gps_height'].iloc[j]\n",
    " #               nb += 1\n",
    " #       trainingSetValues['gps_height'].iloc[i] = sum / nb"
   ]
  },
  {
   "cell_type": "code",
   "execution_count": 47,
   "id": "2e80baee",
   "metadata": {},
   "outputs": [
    {
     "name": "stdout",
     "output_type": "stream",
     "text": [
      "DWE                 21057\n",
      "Government           1825\n",
      "RWE                  1206\n",
      "Commu                1060\n",
      "DANIDA               1050\n",
      "                    ...  \n",
      "MH Kapuya               1\n",
      "METHODIST CHURCH        1\n",
      "MECO                    1\n",
      "MBUZI MAWE              1\n",
      "world vision            1\n",
      "Name: installer, Length: 2145, dtype: int64\n",
      "DWE                              5226\n",
      "Government                        457\n",
      "RWE                               292\n",
      "Commu                             287\n",
      "DANIDA                            255\n",
      "                                 ... \n",
      "Africa Muslum Agence Tanzania       1\n",
      "MWS                                 1\n",
      "Machibya                            1\n",
      "Magati                              1\n",
      "world                               1\n",
      "Name: installer, Length: 1091, dtype: int64\n"
     ]
    }
   ],
   "source": [
    "# installer\n",
    "trainingSetValues['installer'].value_counts()\n",
    "# Replace missing values with the most frequent installer\n",
    "trainingSetValues['installer'] = trainingSetValues['installer'].fillna(trainingSetValues['installer'].value_counts().index[0])\n",
    "testSetValues['installer'] = testSetValues['installer'].fillna(testSetValues['installer'].value_counts().index[0])\n",
    "print(trainingSetValues['installer'].value_counts())\n",
    "print(testSetValues['installer'].value_counts())"
   ]
  },
  {
   "cell_type": "code",
   "execution_count": 48,
   "id": "14884819",
   "metadata": {},
   "outputs": [
    {
     "name": "stdout",
     "output_type": "stream",
     "text": [
      "-2.000000e-08    1812\n",
      "-6.985842e+00       2\n",
      "-6.980220e+00       2\n",
      "-2.476680e+00       2\n",
      "-6.978263e+00       2\n",
      "                 ... \n",
      "-3.287619e+00       1\n",
      "-8.234989e+00       1\n",
      "-3.268579e+00       1\n",
      "-1.146053e+01       1\n",
      "-6.747464e+00       1\n",
      "Name: latitude, Length: 57517, dtype: int64\n",
      "0.000000     1812\n",
      "37.375717       2\n",
      "38.340501       2\n",
      "39.086183       2\n",
      "33.005032       2\n",
      "             ... \n",
      "35.885754       1\n",
      "36.626541       1\n",
      "37.333530       1\n",
      "38.970078       1\n",
      "38.104048       1\n",
      "Name: longitude, Length: 57516, dtype: int64\n"
     ]
    }
   ],
   "source": [
    "# longitude and latitude\n",
    "print(trainingSetValues['latitude'].value_counts())\n",
    "print(trainingSetValues['longitude'].value_counts())"
   ]
  },
  {
   "cell_type": "code",
   "execution_count": 49,
   "id": "04108e06",
   "metadata": {},
   "outputs": [],
   "source": [
    "# wpt_name deletion\n",
    "del trainingSetValues[\"wpt_name\"]\n",
    "del testSetValues[\"wpt_name\"]"
   ]
  },
  {
   "cell_type": "code",
   "execution_count": 50,
   "id": "7f2fe5ea",
   "metadata": {},
   "outputs": [],
   "source": [
    "# num_private deletion \n",
    "del trainingSetValues['num_private']\n",
    "del testSetValues['num_private']"
   ]
  },
  {
   "cell_type": "code",
   "execution_count": 51,
   "id": "universal-vanilla",
   "metadata": {},
   "outputs": [],
   "source": [
    "# Deletion of basin, subvillage, region, lga and ward\n",
    "del trainingSetValues['basin']\n",
    "del testSetValues['basin']\n",
    "del trainingSetValues['subvillage']\n",
    "del testSetValues['subvillage']\n",
    "del trainingSetValues['region']\n",
    "del testSetValues['region']\n",
    "del trainingSetValues['lga']\n",
    "del testSetValues['lga']\n",
    "del trainingSetValues['ward']\n",
    "del testSetValues['ward']"
   ]
  },
  {
   "cell_type": "code",
   "execution_count": 52,
   "id": "59ae81be",
   "metadata": {},
   "outputs": [
    {
     "name": "stdout",
     "output_type": "stream",
     "text": [
      "11    5300\n",
      "17    5011\n",
      "12    4639\n",
      "3     4379\n",
      "5     4040\n",
      "18    3324\n",
      "19    3047\n",
      "2     3024\n",
      "16    2816\n",
      "10    2640\n",
      "4     2513\n",
      "1     2201\n",
      "13    2093\n",
      "14    1979\n",
      "20    1969\n",
      "15    1808\n",
      "6     1609\n",
      "21    1583\n",
      "80    1238\n",
      "60    1025\n",
      "90     917\n",
      "7      805\n",
      "99     423\n",
      "9      390\n",
      "24     326\n",
      "8      300\n",
      "40       1\n",
      "Name: region_code, dtype: int64\n",
      "1     12203\n",
      "2     11173\n",
      "3      9998\n",
      "4      8999\n",
      "5      4356\n",
      "6      4074\n",
      "7      3343\n",
      "8      1043\n",
      "30      995\n",
      "33      874\n",
      "53      745\n",
      "43      505\n",
      "13      391\n",
      "23      293\n",
      "63      195\n",
      "62      109\n",
      "60       63\n",
      "0        23\n",
      "80       12\n",
      "67        6\n",
      "Name: district_code, dtype: int64\n"
     ]
    }
   ],
   "source": [
    "# For geographic location we just keep region_code and district_code\n",
    "# region_code\n",
    "print(trainingSetValues['region_code'].value_counts())   \n",
    "# district_code\n",
    "print(trainingSetValues['district_code'].value_counts())  \n"
   ]
  },
  {
   "cell_type": "code",
   "execution_count": 53,
   "id": "3ecf8af5",
   "metadata": {},
   "outputs": [
    {
     "name": "stdout",
     "output_type": "stream",
     "text": [
      "0       21381\n",
      "1        7025\n",
      "200      1940\n",
      "150      1892\n",
      "250      1681\n",
      "        ...  \n",
      "6330        1\n",
      "5030        1\n",
      "656         1\n",
      "948         1\n",
      "788         1\n",
      "Name: population, Length: 1049, dtype: int64\n",
      "0       5453\n",
      "1       1757\n",
      "150      436\n",
      "200      430\n",
      "250      406\n",
      "        ... \n",
      "745        1\n",
      "4735       1\n",
      "447        1\n",
      "546        1\n",
      "2960       1\n",
      "Name: population, Length: 637, dtype: int64\n"
     ]
    },
    {
     "data": {
      "image/png": "[encoded data removed]",
      "text/plain": [
       "<Figure size 432x288 with 1 Axes>"
      ]
     },
     "metadata": {},
     "output_type": "display_data"
    },
    {
     "name": "stdout",
     "output_type": "stream",
     "text": [
      "count     9397.000000\n",
      "mean       290.954134\n",
      "std        563.265359\n",
      "min          1.000000\n",
      "25%         40.000000\n",
      "50%        150.000000\n",
      "75%        350.000000\n",
      "max      11469.000000\n",
      "Name: population, dtype: float64\n"
     ]
    },
    {
     "data": {
      "image/png": "[encoded data removed]",
      "text/plain": [
       "<Figure size 432x288 with 1 Axes>"
      ]
     },
     "metadata": {},
     "output_type": "display_data"
    }
   ],
   "source": [
    "# population\n",
    "\n",
    "print(trainingSetValues['population'].value_counts())\n",
    "print(testSetValues['population'].value_counts())\n",
    "# boxplot excluding 0\n",
    "trainingSetValues[trainingSetValues['population'] != 0].boxplot(column=['population'])\n",
    "plt.show()\n",
    "print(testSetValues['population'][testSetValues['population'] != 0].describe())\n",
    "testSetValues[testSetValues['population'] != 0].boxplot(column=['population'])\n",
    "plt.show()\n",
    "\n",
    "# Replacing 0 by the median\n",
    "median = trainingSetValues['population'][trainingSetValues['population'] != 0].median\n",
    "trainingSetValues['population'] = trainingSetValues['population'].replace(0, median)\n",
    "median = testSetValues['population'][testSetValues['population'] != 0].median\n",
    "testSetValues['population'] = testSetValues['population'].replace(0, median)\n"
   ]
  },
  {
   "cell_type": "code",
   "execution_count": 54,
   "id": "32a4c77f",
   "metadata": {},
   "outputs": [
    {
     "name": "stdout",
     "output_type": "stream",
     "text": [
      "True     51011\n",
      "False     5055\n",
      "Name: public_meeting, dtype: int64\n",
      "True     12738\n",
      "False     1291\n",
      "Name: public_meeting, dtype: int64\n"
     ]
    }
   ],
   "source": [
    "# public meeting\n",
    "print(trainingSetValues['public_meeting'].value_counts())\n",
    "print(testSetValues['public_meeting'].value_counts())\n",
    "# replacing missing values by True\n",
    "trainingSetValues['public_meeting'] = trainingSetValues['public_meeting'].fillna(trainingSetValues['public_meeting'].value_counts().index[0])\n",
    "testSetValues['public_meeting'] = testSetValues['public_meeting'].fillna(testSetValues['public_meeting'].value_counts().index[0])"
   ]
  },
  {
   "cell_type": "code",
   "execution_count": 55,
   "id": "ruled-cleanup",
   "metadata": {},
   "outputs": [],
   "source": [
    "# recorded_by deletion \n",
    "del trainingSetValues['recorded_by']\n",
    "del testSetValues['recorded_by']"
   ]
  },
  {
   "cell_type": "code",
   "execution_count": 56,
   "id": "08ed0e79",
   "metadata": {},
   "outputs": [
    {
     "name": "stdout",
     "output_type": "stream",
     "text": [
      "VWC                 36793\n",
      "WUG                  5206\n",
      "Water authority      3153\n",
      "WUA                  2883\n",
      "Water Board          2748\n",
      "Parastatal           1680\n",
      "Private operator     1063\n",
      "Company              1061\n",
      "Other                 766\n",
      "SWC                    97\n",
      "Trust                  72\n",
      "None                    1\n",
      "Name: scheme_management, dtype: int64\n",
      "VWC                 9124\n",
      "WUG                 1290\n",
      "Water authority      822\n",
      "Water Board          714\n",
      "WUA                  668\n",
      "Parastatal           444\n",
      "Company              280\n",
      "Private operator     263\n",
      "Other                230\n",
      "SWC                   26\n",
      "Trust                 20\n",
      "Name: scheme_management, dtype: int64\n"
     ]
    },
    {
     "data": {
      "image/png": "[encoded data removed]",
      "text/plain": [
       "<Figure size 720x216 with 1 Axes>"
      ]
     },
     "metadata": {},
     "output_type": "display_data"
    },
    {
     "name": "stdout",
     "output_type": "stream",
     "text": [
      "VWC                 40670\n",
      "WUG                  5206\n",
      "Water authority      3153\n",
      "WUA                  2883\n",
      "Water Board          2748\n",
      "Parastatal           1680\n",
      "Private operator     1063\n",
      "Company              1061\n",
      "Other                 766\n",
      "SWC                    97\n",
      "Trust                  72\n",
      "None                    1\n",
      "Name: scheme_management, dtype: int64\n",
      "VWC                 10093\n",
      "WUG                  1290\n",
      "Water authority       822\n",
      "Water Board           714\n",
      "WUA                   668\n",
      "Parastatal            444\n",
      "Company               280\n",
      "Private operator      263\n",
      "Other                 230\n",
      "SWC                    26\n",
      "Trust                  20\n",
      "Name: scheme_management, dtype: int64\n"
     ]
    }
   ],
   "source": [
    "# scheme_management and scheme_name\n",
    "print(trainingSetValues['scheme_management'].value_counts())\n",
    "print(testSetValues['scheme_management'].value_counts())\n",
    "trainingSetValues['scheme_management'].hist(xlabelsize=10, xrot=90, figsize=(10,3))\n",
    "plt.show()\n",
    "# replacing missing values by the most represented one\n",
    "trainingSetValues['scheme_management'] = trainingSetValues['scheme_management'].fillna(trainingSetValues['scheme_management'].value_counts().index[0])\n",
    "testSetValues['scheme_management'] = testSetValues['scheme_management'].fillna(testSetValues['scheme_management'].value_counts().index[0])\n",
    "print(trainingSetValues['scheme_management'].value_counts())\n",
    "print(testSetValues['scheme_management'].value_counts())\n",
    "\n",
    "# scheme_name deletion \n",
    "del trainingSetValues['scheme_name']\n",
    "del testSetValues['scheme_name']\n"
   ]
  },
  {
   "cell_type": "code",
   "execution_count": 57,
   "id": "54ed7bca",
   "metadata": {},
   "outputs": [
    {
     "name": "stdout",
     "output_type": "stream",
     "text": [
      "True     38852\n",
      "False    17492\n",
      "Name: permit, dtype: int64\n",
      "True     9754\n",
      "False    4359\n",
      "Name: permit, dtype: int64\n"
     ]
    }
   ],
   "source": [
    "# permit\n",
    "print(trainingSetValues['permit'].value_counts())\n",
    "print(testSetValues['permit'].value_counts())\n",
    "# replacing missing values by True\n",
    "trainingSetValues['permit'] = trainingSetValues['permit'].fillna(trainingSetValues['permit'].value_counts().index[0])\n",
    "testSetValues['permit'] = testSetValues['permit'].fillna(testSetValues['permit'].value_counts().index[0])"
   ]
  },
  {
   "cell_type": "code",
   "execution_count": 58,
   "id": "6a5170c9",
   "metadata": {},
   "outputs": [
    {
     "name": "stdout",
     "output_type": "stream",
     "text": [
      "0       20709\n",
      "2010     2645\n",
      "2008     2613\n",
      "2009     2533\n",
      "2000     2091\n",
      "2007     1587\n",
      "2006     1471\n",
      "2003     1286\n",
      "2011     1256\n",
      "2004     1123\n",
      "2012     1084\n",
      "2002     1075\n",
      "1978     1037\n",
      "1995     1014\n",
      "2005     1011\n",
      "1999      979\n",
      "1998      966\n",
      "1990      954\n",
      "1985      945\n",
      "1980      811\n",
      "1996      811\n",
      "1984      779\n",
      "1982      744\n",
      "1994      738\n",
      "1972      708\n",
      "1974      676\n",
      "1997      644\n",
      "1992      640\n",
      "1993      608\n",
      "2001      540\n",
      "1988      521\n",
      "1983      488\n",
      "1975      437\n",
      "1986      434\n",
      "1976      414\n",
      "1970      411\n",
      "1991      324\n",
      "1989      316\n",
      "1987      302\n",
      "1981      238\n",
      "1977      202\n",
      "1979      192\n",
      "1973      184\n",
      "2013      176\n",
      "1971      145\n",
      "1960      102\n",
      "1967       88\n",
      "1963       85\n",
      "1968       77\n",
      "1969       59\n",
      "1964       40\n",
      "1962       30\n",
      "1961       21\n",
      "1965       19\n",
      "1966       17\n",
      "Name: construction_year, dtype: int64\n"
     ]
    }
   ],
   "source": [
    "# construction_year\n",
    "print(trainingSetValues['construction_year'].value_counts())"
   ]
  },
  {
   "cell_type": "code",
   "execution_count": 59,
   "id": "dec5e4f0",
   "metadata": {},
   "outputs": [
    {
     "name": "stdout",
     "output_type": "stream",
     "text": [
      "gravity                      26780\n",
      "nira/tanira                   8154\n",
      "other                         6430\n",
      "submersible                   4764\n",
      "swn 80                        3670\n",
      "mono                          2865\n",
      "india mark ii                 2400\n",
      "afridev                       1770\n",
      "ksb                           1415\n",
      "other - rope pump              451\n",
      "other - swn 81                 229\n",
      "windmill                       117\n",
      "india mark iii                  98\n",
      "cemo                            90\n",
      "other - play pump               85\n",
      "walimi                          48\n",
      "climax                          32\n",
      "other - mkulima/shinyanga        2\n",
      "Name: extraction_type, dtype: int64\n",
      "gravity            26780\n",
      "nira/tanira         8154\n",
      "other               6430\n",
      "submersible         6179\n",
      "swn 80              3670\n",
      "mono                2865\n",
      "india mark ii       2400\n",
      "afridev             1770\n",
      "rope pump            451\n",
      "other handpump       364\n",
      "other motorpump      122\n",
      "wind-powered         117\n",
      "india mark iii        98\n",
      "Name: extraction_type_group, dtype: int64\n",
      "gravity         26780\n",
      "handpump        16456\n",
      "other            6430\n",
      "submersible      6179\n",
      "motorpump        2987\n",
      "rope pump         451\n",
      "wind-powered      117\n",
      "Name: extraction_type_class, dtype: int64\n"
     ]
    },
    {
     "data": {
      "image/png": "[encoded data removed]",
      "text/plain": [
       "<Figure size 576x216 with 1 Axes>"
      ]
     },
     "metadata": {},
     "output_type": "display_data"
    }
   ],
   "source": [
    "# extraction_type\n",
    "print(trainingSetValues['extraction_type'].value_counts())\n",
    "print(trainingSetValues['extraction_type_group'].value_counts())\n",
    "print(trainingSetValues['extraction_type_class'].value_counts())\n",
    "trainingSetValues['extraction_type_class'].hist(xlabelsize=10, figsize=(8,3))\n",
    "plt.show()\n",
    "# recorded_by deletion \n",
    "del trainingSetValues['extraction_type']\n",
    "del testSetValues['extraction_type']\n",
    "del trainingSetValues['extraction_type_group']\n",
    "del testSetValues['extraction_type_group']\n"
   ]
  },
  {
   "cell_type": "code",
   "execution_count": 60,
   "id": "166543bd",
   "metadata": {},
   "outputs": [
    {
     "name": "stdout",
     "output_type": "stream",
     "text": [
      "vwc                 40507\n",
      "wug                  6515\n",
      "water board          2933\n",
      "wua                  2535\n",
      "private operator     1971\n",
      "parastatal           1768\n",
      "water authority       904\n",
      "other                 844\n",
      "company               685\n",
      "unknown               561\n",
      "other - school         99\n",
      "trust                  78\n",
      "Name: management, dtype: int64\n",
      "user-group    52490\n",
      "commercial     3638\n",
      "parastatal     1768\n",
      "other           943\n",
      "unknown         561\n",
      "Name: management_group, dtype: int64\n"
     ]
    },
    {
     "data": {
      "image/png": "[encoded data removed]",
      "text/plain": [
       "<Figure size 432x288 with 1 Axes>"
      ]
     },
     "metadata": {},
     "output_type": "display_data"
    }
   ],
   "source": [
    "# management\n",
    "print(trainingSetValues['management'].value_counts())\n",
    "print(trainingSetValues['management_group'].value_counts())\n",
    "\n",
    "trainingSetValues['management_group'].hist()\n",
    "plt.show()\n",
    "\n",
    "# management deletion \n",
    "del trainingSetValues['management']\n",
    "del testSetValues['management']\n"
   ]
  },
  {
   "cell_type": "code",
   "execution_count": 61,
   "id": "8e80fca6",
   "metadata": {},
   "outputs": [
    {
     "name": "stdout",
     "output_type": "stream",
     "text": [
      "never pay                25348\n",
      "pay per bucket            8985\n",
      "pay monthly               8300\n",
      "unknown                   8157\n",
      "pay when scheme fails     3914\n",
      "pay annually              3642\n",
      "other                     1054\n",
      "Name: payment, dtype: int64\n",
      "never pay     25348\n",
      "per bucket     8985\n",
      "monthly        8300\n",
      "unknown        8157\n",
      "on failure     3914\n",
      "annually       3642\n",
      "other          1054\n",
      "Name: payment_type, dtype: int64\n"
     ]
    },
    {
     "data": {
      "image/png": "[encoded data removed]",
      "text/plain": [
       "<Figure size 576x216 with 1 Axes>"
      ]
     },
     "metadata": {},
     "output_type": "display_data"
    }
   ],
   "source": [
    "# payment\n",
    "print(trainingSetValues['payment'].value_counts())\n",
    "print(trainingSetValues['payment_type'].value_counts())\n",
    "\n",
    "trainingSetValues['payment_type'].hist(xlabelsize=10, figsize=(8,3))\n",
    "plt.show()\n",
    "\n",
    "# payment deletion \n",
    "del trainingSetValues['payment']\n",
    "del testSetValues['payment']\n"
   ]
  },
  {
   "cell_type": "code",
   "execution_count": 62,
   "id": "64de3b9a",
   "metadata": {},
   "outputs": [
    {
     "name": "stdout",
     "output_type": "stream",
     "text": [
      "soft                  50818\n",
      "salty                  4856\n",
      "unknown                1876\n",
      "milky                   804\n",
      "coloured                490\n",
      "salty abandoned         339\n",
      "fluoride                200\n",
      "fluoride abandoned       17\n",
      "Name: water_quality, dtype: int64\n",
      "good        50818\n",
      "salty        5195\n",
      "unknown      1876\n",
      "milky         804\n",
      "colored       490\n",
      "fluoride      217\n",
      "Name: quality_group, dtype: int64\n"
     ]
    },
    {
     "data": {
      "image/png": "[encoded data removed]",
      "text/plain": [
       "<Figure size 432x288 with 1 Axes>"
      ]
     },
     "metadata": {},
     "output_type": "display_data"
    }
   ],
   "source": [
    "# quality \n",
    "print(trainingSetValues['water_quality'].value_counts())\n",
    "print(trainingSetValues['quality_group'].value_counts())\n",
    "\n",
    "trainingSetValues['quality_group'].hist()\n",
    "plt.show()\n",
    "\n",
    "# water_quality deletion \n",
    "del trainingSetValues['water_quality']\n",
    "del testSetValues['water_quality']"
   ]
  },
  {
   "cell_type": "code",
   "execution_count": 63,
   "id": "4200b297",
   "metadata": {},
   "outputs": [
    {
     "name": "stdout",
     "output_type": "stream",
     "text": [
      "enough          33186\n",
      "insufficient    15129\n",
      "dry              6246\n",
      "seasonal         4050\n",
      "unknown           789\n",
      "Name: quantity, dtype: int64\n",
      "enough          33186\n",
      "insufficient    15129\n",
      "dry              6246\n",
      "seasonal         4050\n",
      "unknown           789\n",
      "Name: quantity_group, dtype: int64\n"
     ]
    },
    {
     "data": {
      "image/png": "[encoded data removed]",
      "text/plain": [
       "<Figure size 432x288 with 1 Axes>"
      ]
     },
     "metadata": {},
     "output_type": "display_data"
    }
   ],
   "source": [
    "# quantity \n",
    "print(trainingSetValues['quantity'].value_counts())\n",
    "print(trainingSetValues['quantity_group'].value_counts())\n",
    "\n",
    "trainingSetValues['quantity'].hist()\n",
    "plt.show()\n",
    "\n",
    "# quantity_group deletion \n",
    "del trainingSetValues['quantity_group']\n",
    "del testSetValues['quantity_group']"
   ]
  },
  {
   "cell_type": "code",
   "execution_count": 64,
   "id": "a2920664",
   "metadata": {},
   "outputs": [
    {
     "name": "stdout",
     "output_type": "stream",
     "text": [
      "spring                  17021\n",
      "shallow well            16824\n",
      "machine dbh             11075\n",
      "river                    9612\n",
      "rainwater harvesting     2295\n",
      "hand dtw                  874\n",
      "lake                      765\n",
      "dam                       656\n",
      "other                     212\n",
      "unknown                    66\n",
      "Name: source, dtype: int64\n",
      "spring                  17021\n",
      "shallow well            16824\n",
      "borehole                11949\n",
      "river/lake              10377\n",
      "rainwater harvesting     2295\n",
      "dam                       656\n",
      "other                     278\n",
      "Name: source_type, dtype: int64\n",
      "groundwater    45794\n",
      "surface        13328\n",
      "unknown          278\n",
      "Name: source_class, dtype: int64\n"
     ]
    },
    {
     "data": {
      "image/png": "[encoded data removed]",
      "text/plain": [
       "<Figure size 576x216 with 1 Axes>"
      ]
     },
     "metadata": {},
     "output_type": "display_data"
    }
   ],
   "source": [
    "# source\n",
    "print(trainingSetValues['source'].value_counts())\n",
    "print(trainingSetValues['source_type'].value_counts())\n",
    "print(trainingSetValues['source_class'].value_counts())\n",
    "\n",
    "trainingSetValues['source_type'].hist(xlabelsize=10, figsize=(8,3))\n",
    "plt.show()\n",
    "\n",
    "# source and source_class deletion \n",
    "del trainingSetValues['source']\n",
    "del testSetValues['source']\n",
    "del trainingSetValues['source_class']\n",
    "del testSetValues['source_class']"
   ]
  },
  {
   "cell_type": "code",
   "execution_count": 65,
   "id": "58f625e4",
   "metadata": {},
   "outputs": [
    {
     "name": "stdout",
     "output_type": "stream",
     "text": [
      "communal standpipe             28522\n",
      "hand pump                      17488\n",
      "other                           6380\n",
      "communal standpipe multiple     6103\n",
      "improved spring                  784\n",
      "cattle trough                    116\n",
      "dam                                7\n",
      "Name: waterpoint_type, dtype: int64\n",
      "communal standpipe    34625\n",
      "hand pump             17488\n",
      "other                  6380\n",
      "improved spring         784\n",
      "cattle trough           116\n",
      "dam                       7\n",
      "Name: waterpoint_type_group, dtype: int64\n"
     ]
    },
    {
     "data": {
      "image/png": "[encoded data removed]",
      "text/plain": [
       "<Figure size 720x216 with 1 Axes>"
      ]
     },
     "metadata": {},
     "output_type": "display_data"
    }
   ],
   "source": [
    "# waterpoint\n",
    "print(trainingSetValues['waterpoint_type'].value_counts())\n",
    "print(trainingSetValues['waterpoint_type_group'].value_counts())\n",
    "\n",
    "trainingSetValues['waterpoint_type'].hist(xlabelsize=10, xrot=45, figsize=(10,3))\n",
    "plt.show()\n",
    "\n",
    "# waterpoint_type_group deletion \n",
    "del trainingSetValues['waterpoint_type_group']\n",
    "del testSetValues['waterpoint_type_group']\n"
   ]
  },
  {
   "cell_type": "code",
   "execution_count": 66,
   "id": "4f9f0a32",
   "metadata": {},
   "outputs": [
    {
     "name": "stdout",
     "output_type": "stream",
     "text": [
      "Index(['id', 'funder', 'gps_height', 'installer', 'longitude', 'latitude',\n",
      "       'region_code', 'district_code', 'population', 'public_meeting',\n",
      "       'scheme_management', 'permit', 'construction_year',\n",
      "       'extraction_type_class', 'management_group', 'payment_type',\n",
      "       'quality_group', 'quantity', 'source_type', 'waterpoint_type'],\n",
      "      dtype='object')\n",
      "Index(['id', 'funder', 'gps_height', 'installer', 'longitude', 'latitude',\n",
      "       'region_code', 'district_code', 'population', 'public_meeting',\n",
      "       'scheme_management', 'permit', 'construction_year',\n",
      "       'extraction_type_class', 'management_group', 'payment_type',\n",
      "       'quality_group', 'quantity', 'source_type', 'waterpoint_type'],\n",
      "      dtype='object')\n",
      "\n",
      "NaN data in trainingSetValues\n",
      "\n",
      "NaN data in testSetValues\n"
     ]
    }
   ],
   "source": [
    "# Summary of data preparation\n",
    "print(trainingSetValues.columns)\n",
    "print(testSetValues.columns)\n",
    "print(\"\\nNaN data in trainingSetValues\")\n",
    "list_nb_nan_columns(trainingSetValues)\n",
    "print(\"\\nNaN data in testSetValues\")\n",
    "list_nb_nan_columns(testSetValues)\n"
   ]
  }
 ],
 "metadata": {
  "interpreter": {
   "hash": "961164d3c57bcec2a58ff384204bcf02724313a22661b698966dfff3b7d7a990"
  },
  "kernelspec": {
   "display_name": "Python 3.8.3 64-bit ('base': conda)",
   "name": "python3"
  },
  "language_info": {
   "codemirror_mode": {
    "name": "ipython",
    "version": 3
   },
   "file_extension": ".py",
   "mimetype": "text/x-python",
   "name": "python",
   "nbconvert_exporter": "python",
   "pygments_lexer": "ipython3",
   "version": "3.9.7"
  }
 },
 "nbformat": 4,
 "nbformat_minor": 5
}
