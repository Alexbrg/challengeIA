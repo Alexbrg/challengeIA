{
 "cells": [
  {
   "cell_type": "code",
   "execution_count": 1,
   "id": "generic-register",
   "metadata": {},
   "outputs": [],
   "source": [
    "# Import for data cleaning\n",
    "import pandas as pd\n",
    "import numpy as np\n",
    "import matplotlib.pyplot as plt\n",
    "import seaborn as sns\n",
    "sns.set_theme()"
   ]
  },
  {
   "cell_type": "code",
   "execution_count": 2,
   "id": "looking-sunday",
   "metadata": {},
   "outputs": [],
   "source": [
    "# Files opening\n",
    "path = \"./data/\"\n",
    "trainingSetValues = pd.read_csv(path + \"TrainingSetValues.csv\", sep=\",\")\n",
    "trainingSetLabels = pd.read_csv(path + \"TrainingSetLabels.csv\", sep=\",\")\n",
    "testSetValues = pd.read_csv(path + \"TestSetValues.csv\", sep=\",\")\n",
    "\n",
    "# Constants\n",
    "PRINT = False"
   ]
  },
  {
   "cell_type": "code",
   "execution_count": 3,
   "id": "african-treat",
   "metadata": {},
   "outputs": [],
   "source": [
    "# Display some general informations\n",
    "if (PRINT):\n",
    "    print(testSetValues.columns)\n",
    "    print(len(testSetValues.columns))\n",
    "    testSetValues.head()\n",
    "    trainingSetLabels.head()"
   ]
  },
  {
   "cell_type": "code",
   "execution_count": 4,
   "id": "8e831799",
   "metadata": {},
   "outputs": [],
   "source": [
    "# Converting columns in the good dtype\n",
    "def changeDtypes(data):\n",
    "    for column in data:\n",
    "        if \"date\" in column:\n",
    "                data[column] = pd.to_datetime(data[column], format=\"%Y/%m/%d\")\n",
    "        else:\n",
    "            if data[column].dtype == \"object\":\n",
    "                data[column] = pd.Categorical(data[column])\n",
    "\n",
    "changeDtypes(trainingSetValues)\n",
    "changeDtypes(testSetValues)"
   ]
  },
  {
   "cell_type": "code",
   "execution_count": 5,
   "id": "926a3d88",
   "metadata": {},
   "outputs": [],
   "source": [
    "# List number of NaN values in data\n",
    "def get_nan_count(column):\n",
    "    '''\n",
    "    column - the column for which we want the NaN value count.\n",
    "    This function returns the number of NaN values in a specific column.\n",
    "    '''\n",
    "    nan_count = column.isnull().sum()\n",
    "    return nan_count\n",
    "\n",
    "def list_nb_nan_columns(data):\n",
    "    for column in data:\n",
    "        nb = get_nan_count(data[column])\n",
    "        if nb != 0:\n",
    "            totalCol = data[column].count() + nb\n",
    "            print(column,\":\", round(nb/totalCol *100 ,3), \"%\")\n",
    "        \n",
    "if PRINT:\n",
    "    print(\"\\nNaN data in trainingSetValues\")\n",
    "    list_nb_nan_columns(trainingSetValues)\n",
    "    print(\"\\nNaN data in testSetValues\")\n",
    "    list_nb_nan_columns(testSetValues)"
   ]
  },
  {
   "cell_type": "code",
   "execution_count": 6,
   "id": "507d505d",
   "metadata": {},
   "outputs": [],
   "source": [
    "# Functional state\n",
    "if PRINT:\n",
    "    print(trainingSetLabels['status_group'].value_counts())\n",
    "    trainingSetLabels['status_group'].hist()\n",
    "    plt.show()"
   ]
  },
  {
   "cell_type": "code",
   "execution_count": 7,
   "id": "2c474e0f",
   "metadata": {},
   "outputs": [],
   "source": [
    "# amount_tsh\n",
    "if PRINT:\n",
    "    print(trainingSetValues['amount_tsh'].value_counts())\n",
    "    print(testSetValues['amount_tsh'].value_counts())\n",
    "# Delete amount_tsh from both data sets because of too many '0' values\n",
    "trainingSetValues.drop(['amount_tsh'], axis = 1, inplace = True)\n",
    "testSetValues.drop(['amount_tsh'], axis = 1, inplace = True)"
   ]
  },
  {
   "cell_type": "code",
   "execution_count": 8,
   "id": "15f69e94",
   "metadata": {},
   "outputs": [],
   "source": [
    "# date_recorded\n",
    "if PRINT:   \n",
    "    print(trainingSetValues['date_recorded'].dt.year.value_counts())\n",
    "    print(testSetValues['date_recorded'].dt.year.value_counts())\n",
    "# Deleting\n",
    "del trainingSetValues['date_recorded']\n",
    "del testSetValues['date_recorded']"
   ]
  },
  {
   "cell_type": "code",
   "execution_count": 9,
   "id": "b5c934db",
   "metadata": {},
   "outputs": [],
   "source": [
    "# funder\n",
    "# Replace missing values with the most frequent funder\n",
    "trainingSetValues['funder'] = trainingSetValues['funder'].fillna(trainingSetValues['funder'].value_counts().index[0])\n",
    "testSetValues['funder'] = testSetValues['funder'].fillna(testSetValues['funder'].value_counts().index[0])\n",
    "if PRINT:\n",
    "    print(trainingSetValues['funder'].value_counts())\n",
    "    print(testSetValues['funder'].value_counts())"
   ]
  },
  {
   "cell_type": "code",
   "execution_count": 10,
   "id": "a40f2176",
   "metadata": {},
   "outputs": [],
   "source": [
    "# gps_height\n",
    "if PRINT:\n",
    "    print(trainingSetValues['gps_height'].max())\n",
    "    print(trainingSetValues['gps_height'].min())\n",
    "    print(trainingSetValues['gps_height'].mean())\n",
    "    print(trainingSetValues['gps_height'].value_counts())\n",
    "\n",
    "# Replacing all 0 values by the mean\n",
    "#trainingSetValues['gps_height'].replace(0, trainingSetValues['gps_height'].mean(), inplace=True)\n",
    "#testSetValues['gps_height'].replace(0, testSetValues['gps_height'].mean(), inplace=True)\n",
    "\n",
    "# Do not work yet : Replacing 0 values in gps_height with average of others which are in the same district\n",
    "#for i in range(trainingSetValues.shape[0]):\n",
    "#    if trainingSetValues['gps_height'].iloc[i] == 0:\n",
    "#        district_i = trainingSetValues['district_code'].iloc[i]\n",
    "#        sum = 0\n",
    "#        nb = 0\n",
    "#        for j in range(trainingSetValues.shape[0]):\n",
    " #           if i != j and district_i == trainingSetValues['district_code'].iloc[j]:\n",
    " #               sum += trainingSetValues['gps_height'].iloc[j]\n",
    " #               nb += 1\n",
    " #       trainingSetValues['gps_height'].iloc[i] = sum / nb"
   ]
  },
  {
   "cell_type": "code",
   "execution_count": 11,
   "id": "2e80baee",
   "metadata": {},
   "outputs": [],
   "source": [
    "# installer\n",
    "trainingSetValues['installer'].value_counts()\n",
    "# Replace missing values with the most frequent installer\n",
    "trainingSetValues['installer'] = trainingSetValues['installer'].fillna(trainingSetValues['installer'].value_counts().index[0])\n",
    "testSetValues['installer'] = testSetValues['installer'].fillna(testSetValues['installer'].value_counts().index[0])\n",
    "if PRINT:\n",
    "    print(trainingSetValues['installer'].value_counts())\n",
    "    print(testSetValues['installer'].value_counts())"
   ]
  },
  {
   "cell_type": "code",
   "execution_count": 12,
   "id": "14884819",
   "metadata": {},
   "outputs": [],
   "source": [
    "# longitude and latitude\n",
    "if PRINT:\n",
    "    print(trainingSetValues['latitude'].value_counts())\n",
    "    print(trainingSetValues['longitude'].value_counts())"
   ]
  },
  {
   "cell_type": "code",
   "execution_count": 13,
   "id": "04108e06",
   "metadata": {},
   "outputs": [],
   "source": [
    "# wpt_name deletion\n",
    "del trainingSetValues[\"wpt_name\"]\n",
    "del testSetValues[\"wpt_name\"]"
   ]
  },
  {
   "cell_type": "code",
   "execution_count": 14,
   "id": "7f2fe5ea",
   "metadata": {},
   "outputs": [],
   "source": [
    "# num_private deletion \n",
    "del trainingSetValues['num_private']\n",
    "del testSetValues['num_private']"
   ]
  },
  {
   "cell_type": "code",
   "execution_count": 15,
   "id": "universal-vanilla",
   "metadata": {},
   "outputs": [],
   "source": [
    "# Deletion of basin, subvillage, region, lga and ward\n",
    "del trainingSetValues['basin']\n",
    "del testSetValues['basin']\n",
    "del trainingSetValues['subvillage']\n",
    "del testSetValues['subvillage']\n",
    "del trainingSetValues['region']\n",
    "del testSetValues['region']\n",
    "del trainingSetValues['lga']\n",
    "del testSetValues['lga']\n",
    "del trainingSetValues['ward']\n",
    "del testSetValues['ward']"
   ]
  },
  {
   "cell_type": "code",
   "execution_count": 16,
   "id": "59ae81be",
   "metadata": {},
   "outputs": [],
   "source": [
    "# For geographic location we just keep region_code and district_code\n",
    "# region_code\n",
    "if PRINT:\n",
    "    print(trainingSetValues['region_code'].value_counts())   \n",
    "    # district_code\n",
    "    print(trainingSetValues['district_code'].value_counts())  \n"
   ]
  },
  {
   "cell_type": "code",
   "execution_count": 17,
   "id": "3ecf8af5",
   "metadata": {},
   "outputs": [],
   "source": [
    "# population\n",
    "if PRINT:\n",
    "    print(trainingSetValues['population'].value_counts())\n",
    "    print(testSetValues['population'].value_counts())\n",
    "    # boxplot excluding 0\n",
    "    trainingSetValues[trainingSetValues['population'] != 0].boxplot(column=['population'])\n",
    "    plt.show()\n",
    "    print(testSetValues['population'][testSetValues['population'] != 0].describe())\n",
    "    testSetValues[testSetValues['population'] != 0].boxplot(column=['population'])\n",
    "    plt.show()\n",
    "\n",
    "# Replacing 0 by the median\n",
    "median = trainingSetValues['population'][trainingSetValues['population'] != 0].median()\n",
    "trainingSetValues['population'] = trainingSetValues['population'].replace(0, int(median))\n",
    "median = testSetValues['population'][testSetValues['population'] != 0].median()\n",
    "testSetValues['population'] = testSetValues['population'].replace(0, int(median))\n",
    "\n"
   ]
  },
  {
   "cell_type": "code",
   "execution_count": 18,
   "id": "32a4c77f",
   "metadata": {},
   "outputs": [],
   "source": [
    "# public meeting\n",
    "if PRINT:\n",
    "    print(trainingSetValues['public_meeting'].value_counts())\n",
    "    print(testSetValues['public_meeting'].value_counts())\n",
    "# replacing missing values by True\n",
    "trainingSetValues['public_meeting'] = trainingSetValues['public_meeting'].fillna(trainingSetValues['public_meeting'].value_counts().index[0])\n",
    "testSetValues['public_meeting'] = testSetValues['public_meeting'].fillna(testSetValues['public_meeting'].value_counts().index[0])"
   ]
  },
  {
   "cell_type": "code",
   "execution_count": 19,
   "id": "ruled-cleanup",
   "metadata": {},
   "outputs": [],
   "source": [
    "# recorded_by deletion \n",
    "del trainingSetValues['recorded_by']\n",
    "del testSetValues['recorded_by']"
   ]
  },
  {
   "cell_type": "code",
   "execution_count": 20,
   "id": "08ed0e79",
   "metadata": {},
   "outputs": [],
   "source": [
    "# scheme_management and scheme_name\n",
    "if PRINT:\n",
    "    print(trainingSetValues['scheme_management'].value_counts())\n",
    "    print(testSetValues['scheme_management'].value_counts())\n",
    "    trainingSetValues['scheme_management'].hist(xlabelsize=10, xrot=90, figsize=(10,3))\n",
    "    plt.show()\n",
    "# replacing missing values by the most represented one\n",
    "trainingSetValues['scheme_management'] = trainingSetValues['scheme_management'].fillna(trainingSetValues['scheme_management'].value_counts().index[0])\n",
    "testSetValues['scheme_management'] = testSetValues['scheme_management'].fillna(testSetValues['scheme_management'].value_counts().index[0])\n",
    "if PRINT:\n",
    "    print(trainingSetValues['scheme_management'].value_counts())\n",
    "    print(testSetValues['scheme_management'].value_counts())\n",
    "\n",
    "# scheme_name deletion \n",
    "del trainingSetValues['scheme_name']\n",
    "del testSetValues['scheme_name']\n"
   ]
  },
  {
   "cell_type": "code",
   "execution_count": 21,
   "id": "54ed7bca",
   "metadata": {},
   "outputs": [],
   "source": [
    "# permit\n",
    "if PRINT:\n",
    "    print(trainingSetValues['permit'].value_counts())\n",
    "    print(testSetValues['permit'].value_counts())\n",
    "# replacing missing values by True\n",
    "trainingSetValues['permit'] = trainingSetValues['permit'].fillna(trainingSetValues['permit'].value_counts().index[0])\n",
    "testSetValues['permit'] = testSetValues['permit'].fillna(testSetValues['permit'].value_counts().index[0])"
   ]
  },
  {
   "cell_type": "code",
   "execution_count": 22,
   "id": "6a5170c9",
   "metadata": {},
   "outputs": [
    {
     "name": "stdout",
     "output_type": "stream",
     "text": [
      "id                          int64\n",
      "funder                   category\n",
      "gps_height                  int64\n",
      "installer                category\n",
      "longitude                 float64\n",
      "latitude                  float64\n",
      "region_code                 int64\n",
      "district_code               int64\n",
      "population                  int64\n",
      "public_meeting           category\n",
      "scheme_management        category\n",
      "permit                   category\n",
      "construction_year        category\n",
      "extraction_type          category\n",
      "extraction_type_group    category\n",
      "extraction_type_class    category\n",
      "management               category\n",
      "management_group         category\n",
      "payment                  category\n",
      "payment_type             category\n",
      "water_quality            category\n",
      "quality_group            category\n",
      "quantity                 category\n",
      "quantity_group           category\n",
      "source                   category\n",
      "source_type              category\n",
      "source_class             category\n",
      "waterpoint_type          category\n",
      "waterpoint_type_group    category\n",
      "dtype: object\n"
     ]
    }
   ],
   "source": [
    "# construction_year\n",
    "if PRINT: \n",
    "    print(trainingSetValues['construction_year'].value_counts())\n",
    "# converting construction_year dtype to category\n",
    "trainingSetValues['construction_year'] = pd.Categorical(trainingSetValues['construction_year'])\n",
    "testSetValues['construction_year'] = pd.Categorical(testSetValues['construction_year'])"
   ]
  },
  {
   "cell_type": "code",
   "execution_count": 23,
   "id": "dec5e4f0",
   "metadata": {},
   "outputs": [],
   "source": [
    "# extraction_type\n",
    "if PRINT:\n",
    "    print(trainingSetValues['extraction_type'].value_counts())\n",
    "    print(trainingSetValues['extraction_type_group'].value_counts())\n",
    "    print(trainingSetValues['extraction_type_class'].value_counts())\n",
    "    trainingSetValues['extraction_type_class'].hist(xlabelsize=10, figsize=(8,3))\n",
    "    plt.show()\n",
    "# recorded_by deletion \n",
    "del trainingSetValues['extraction_type']\n",
    "del testSetValues['extraction_type']\n",
    "del trainingSetValues['extraction_type_group']\n",
    "del testSetValues['extraction_type_group']\n"
   ]
  },
  {
   "cell_type": "code",
   "execution_count": 24,
   "id": "166543bd",
   "metadata": {},
   "outputs": [],
   "source": [
    "# management\n",
    "if PRINT:\n",
    "    print(trainingSetValues['management'].value_counts())\n",
    "    print(trainingSetValues['management_group'].value_counts())\n",
    "\n",
    "    trainingSetValues['management_group'].hist()\n",
    "    plt.show()\n",
    "\n",
    "# management deletion \n",
    "del trainingSetValues['management']\n",
    "del testSetValues['management']\n"
   ]
  },
  {
   "cell_type": "code",
   "execution_count": 25,
   "id": "8e80fca6",
   "metadata": {},
   "outputs": [],
   "source": [
    "# payment\n",
    "if PRINT:\n",
    "    print(trainingSetValues['payment'].value_counts())\n",
    "    print(trainingSetValues['payment_type'].value_counts())\n",
    "\n",
    "    trainingSetValues['payment_type'].hist(xlabelsize=10, figsize=(8,3))\n",
    "    plt.show()\n",
    "\n",
    "# payment deletion \n",
    "del trainingSetValues['payment']\n",
    "del testSetValues['payment']\n"
   ]
  },
  {
   "cell_type": "code",
   "execution_count": 26,
   "id": "64de3b9a",
   "metadata": {},
   "outputs": [],
   "source": [
    "# quality \n",
    "if PRINT:\n",
    "    print(trainingSetValues['water_quality'].value_counts())\n",
    "    print(trainingSetValues['quality_group'].value_counts())\n",
    "\n",
    "    trainingSetValues['quality_group'].hist()\n",
    "    plt.show()\n",
    "\n",
    "# water_quality deletion \n",
    "del trainingSetValues['water_quality']\n",
    "del testSetValues['water_quality']"
   ]
  },
  {
   "cell_type": "code",
   "execution_count": 27,
   "id": "4200b297",
   "metadata": {},
   "outputs": [],
   "source": [
    "# quantity \n",
    "if PRINT:\n",
    "    print(trainingSetValues['quantity'].value_counts())\n",
    "    print(trainingSetValues['quantity_group'].value_counts())\n",
    "\n",
    "    trainingSetValues['quantity'].hist()\n",
    "    plt.show()\n",
    "\n",
    "# quantity_group deletion \n",
    "del trainingSetValues['quantity_group']\n",
    "del testSetValues['quantity_group']"
   ]
  },
  {
   "cell_type": "code",
   "execution_count": 28,
   "id": "a2920664",
   "metadata": {},
   "outputs": [],
   "source": [
    "# source\n",
    "if PRINT:\n",
    "    print(trainingSetValues['source'].value_counts())\n",
    "    print(trainingSetValues['source_type'].value_counts())\n",
    "    print(trainingSetValues['source_class'].value_counts())\n",
    "\n",
    "    trainingSetValues['source_type'].hist(xlabelsize=10, figsize=(8,3))\n",
    "    plt.show()\n",
    "\n",
    "# source and source_class deletion \n",
    "del trainingSetValues['source']\n",
    "del testSetValues['source']\n",
    "del trainingSetValues['source_class']\n",
    "del testSetValues['source_class']"
   ]
  },
  {
   "cell_type": "code",
   "execution_count": 29,
   "id": "58f625e4",
   "metadata": {},
   "outputs": [],
   "source": [
    "# waterpoint\n",
    "if PRINT:\n",
    "    print(trainingSetValues['waterpoint_type'].value_counts())\n",
    "    print(trainingSetValues['waterpoint_type_group'].value_counts())\n",
    "\n",
    "    trainingSetValues['waterpoint_type'].hist(xlabelsize=10, xrot=45, figsize=(10,3))\n",
    "    plt.show()\n",
    "\n",
    "# waterpoint_type_group deletion \n",
    "del trainingSetValues['waterpoint_type_group']\n",
    "del testSetValues['waterpoint_type_group']\n"
   ]
  },
  {
   "cell_type": "code",
   "execution_count": 30,
   "id": "4f9f0a32",
   "metadata": {},
   "outputs": [],
   "source": [
    "# Summary of data preparation\n",
    "if PRINT:\n",
    "    print(trainingSetValues.columns)\n",
    "    print(testSetValues.columns)\n",
    "    print(\"\\nNaN data in trainingSetValues\")\n",
    "    list_nb_nan_columns(trainingSetValues)\n",
    "    print(\"\\nNaN data in testSetValues\")\n",
    "    list_nb_nan_columns(testSetValues)\n"
   ]
  },
  {
   "cell_type": "code",
   "execution_count": 31,
   "id": "68e9ec37",
   "metadata": {},
   "outputs": [],
   "source": [
    "# re-indexation for export and use in differents methods\n",
    "pd.DataFrame.set_index(trainingSetValues, 'id', inplace=True)\n",
    "pd.DataFrame.set_index(testSetValues, 'id', inplace=True)\n",
    "\n",
    "# export cleaned data frames\n",
    "trainingSetValues.to_csv('data/TrainingSetValuesCleaned.csv')\n",
    "testSetValues.to_csv('data/TestSetValuesCleaned.csv')"
   ]
  }
 ],
 "metadata": {
  "interpreter": {
   "hash": "961164d3c57bcec2a58ff384204bcf02724313a22661b698966dfff3b7d7a990"
  },
  "kernelspec": {
   "display_name": "Python 3.8.3 64-bit ('base': conda)",
   "name": "python3"
  },
  "language_info": {
   "codemirror_mode": {
    "name": "ipython",
    "version": 3
   },
   "file_extension": ".py",
   "mimetype": "text/x-python",
   "name": "python",
   "nbconvert_exporter": "python",
   "pygments_lexer": "ipython3",
   "version": "3.8.3"
  }
 },
 "nbformat": 4,
 "nbformat_minor": 5
}
